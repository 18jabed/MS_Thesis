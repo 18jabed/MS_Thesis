{
 "cells": [
  {
   "cell_type": "code",
   "execution_count": 1,
   "id": "a72baf89",
   "metadata": {},
   "outputs": [
    {
     "name": "stderr",
     "output_type": "stream",
     "text": [
      "E:\\python\\lib\\site-packages\\keras\\src\\layers\\core\\embedding.py:90: UserWarning: Argument `input_length` is deprecated. Just remove it.\n",
      "  warnings.warn(\n"
     ]
    },
    {
     "data": {
      "text/html": [
       "<pre style=\"white-space:pre;overflow-x:auto;line-height:normal;font-family:Menlo,'DejaVu Sans Mono',consolas,'Courier New',monospace\"><span style=\"font-weight: bold\">Model: \"functional\"</span>\n",
       "</pre>\n"
      ],
      "text/plain": [
       "\u001b[1mModel: \"functional\"\u001b[0m\n"
      ]
     },
     "metadata": {},
     "output_type": "display_data"
    },
    {
     "data": {
      "text/html": [
       "<pre style=\"white-space:pre;overflow-x:auto;line-height:normal;font-family:Menlo,'DejaVu Sans Mono',consolas,'Courier New',monospace\">┏━━━━━━━━━━━━━━━━━━━━━━━━━━━━━━━┳━━━━━━━━━━━━━━━━━━━━━━━━━━━┳━━━━━━━━━━━━━━━━━┳━━━━━━━━━━━━━━━━━━━━━━━━━━━━┓\n",
       "┃<span style=\"font-weight: bold\"> Layer (type)                  </span>┃<span style=\"font-weight: bold\"> Output Shape              </span>┃<span style=\"font-weight: bold\">         Param # </span>┃<span style=\"font-weight: bold\"> Connected to               </span>┃\n",
       "┡━━━━━━━━━━━━━━━━━━━━━━━━━━━━━━━╇━━━━━━━━━━━━━━━━━━━━━━━━━━━╇━━━━━━━━━━━━━━━━━╇━━━━━━━━━━━━━━━━━━━━━━━━━━━━┩\n",
       "│ input_layer (<span style=\"color: #0087ff; text-decoration-color: #0087ff\">InputLayer</span>)      │ (<span style=\"color: #00d7ff; text-decoration-color: #00d7ff\">None</span>, <span style=\"color: #00af00; text-decoration-color: #00af00\">100</span>)               │               <span style=\"color: #00af00; text-decoration-color: #00af00\">0</span> │ -                          │\n",
       "├───────────────────────────────┼───────────────────────────┼─────────────────┼────────────────────────────┤\n",
       "│ embedding (<span style=\"color: #0087ff; text-decoration-color: #0087ff\">Embedding</span>)         │ (<span style=\"color: #00d7ff; text-decoration-color: #00d7ff\">None</span>, <span style=\"color: #00af00; text-decoration-color: #00af00\">100</span>, <span style=\"color: #00af00; text-decoration-color: #00af00\">128</span>)          │         <span style=\"color: #00af00; text-decoration-color: #00af00\">640,000</span> │ input_layer[<span style=\"color: #00af00; text-decoration-color: #00af00\">0</span>][<span style=\"color: #00af00; text-decoration-color: #00af00\">0</span>]          │\n",
       "├───────────────────────────────┼───────────────────────────┼─────────────────┼────────────────────────────┤\n",
       "│ lstm (<span style=\"color: #0087ff; text-decoration-color: #0087ff\">LSTM</span>)                   │ (<span style=\"color: #00d7ff; text-decoration-color: #00d7ff\">None</span>, <span style=\"color: #00af00; text-decoration-color: #00af00\">64</span>)                │          <span style=\"color: #00af00; text-decoration-color: #00af00\">49,408</span> │ embedding[<span style=\"color: #00af00; text-decoration-color: #00af00\">0</span>][<span style=\"color: #00af00; text-decoration-color: #00af00\">0</span>]            │\n",
       "├───────────────────────────────┼───────────────────────────┼─────────────────┼────────────────────────────┤\n",
       "│ dropout (<span style=\"color: #0087ff; text-decoration-color: #0087ff\">Dropout</span>)             │ (<span style=\"color: #00d7ff; text-decoration-color: #00d7ff\">None</span>, <span style=\"color: #00af00; text-decoration-color: #00af00\">64</span>)                │               <span style=\"color: #00af00; text-decoration-color: #00af00\">0</span> │ lstm[<span style=\"color: #00af00; text-decoration-color: #00af00\">0</span>][<span style=\"color: #00af00; text-decoration-color: #00af00\">0</span>]                 │\n",
       "├───────────────────────────────┼───────────────────────────┼─────────────────┼────────────────────────────┤\n",
       "│ emotion_output (<span style=\"color: #0087ff; text-decoration-color: #0087ff\">Dense</span>)        │ (<span style=\"color: #00d7ff; text-decoration-color: #00d7ff\">None</span>, <span style=\"color: #00af00; text-decoration-color: #00af00\">6</span>)                 │             <span style=\"color: #00af00; text-decoration-color: #00af00\">390</span> │ dropout[<span style=\"color: #00af00; text-decoration-color: #00af00\">0</span>][<span style=\"color: #00af00; text-decoration-color: #00af00\">0</span>]              │\n",
       "├───────────────────────────────┼───────────────────────────┼─────────────────┼────────────────────────────┤\n",
       "│ topic_output (<span style=\"color: #0087ff; text-decoration-color: #0087ff\">Dense</span>)          │ (<span style=\"color: #00d7ff; text-decoration-color: #00d7ff\">None</span>, <span style=\"color: #00af00; text-decoration-color: #00af00\">12</span>)                │             <span style=\"color: #00af00; text-decoration-color: #00af00\">780</span> │ dropout[<span style=\"color: #00af00; text-decoration-color: #00af00\">0</span>][<span style=\"color: #00af00; text-decoration-color: #00af00\">0</span>]              │\n",
       "└───────────────────────────────┴───────────────────────────┴─────────────────┴────────────────────────────┘\n",
       "</pre>\n"
      ],
      "text/plain": [
       "┏━━━━━━━━━━━━━━━━━━━━━━━━━━━━━━━┳━━━━━━━━━━━━━━━━━━━━━━━━━━━┳━━━━━━━━━━━━━━━━━┳━━━━━━━━━━━━━━━━━━━━━━━━━━━━┓\n",
       "┃\u001b[1m \u001b[0m\u001b[1mLayer (type)                 \u001b[0m\u001b[1m \u001b[0m┃\u001b[1m \u001b[0m\u001b[1mOutput Shape             \u001b[0m\u001b[1m \u001b[0m┃\u001b[1m \u001b[0m\u001b[1m        Param #\u001b[0m\u001b[1m \u001b[0m┃\u001b[1m \u001b[0m\u001b[1mConnected to              \u001b[0m\u001b[1m \u001b[0m┃\n",
       "┡━━━━━━━━━━━━━━━━━━━━━━━━━━━━━━━╇━━━━━━━━━━━━━━━━━━━━━━━━━━━╇━━━━━━━━━━━━━━━━━╇━━━━━━━━━━━━━━━━━━━━━━━━━━━━┩\n",
       "│ input_layer (\u001b[38;5;33mInputLayer\u001b[0m)      │ (\u001b[38;5;45mNone\u001b[0m, \u001b[38;5;34m100\u001b[0m)               │               \u001b[38;5;34m0\u001b[0m │ -                          │\n",
       "├───────────────────────────────┼───────────────────────────┼─────────────────┼────────────────────────────┤\n",
       "│ embedding (\u001b[38;5;33mEmbedding\u001b[0m)         │ (\u001b[38;5;45mNone\u001b[0m, \u001b[38;5;34m100\u001b[0m, \u001b[38;5;34m128\u001b[0m)          │         \u001b[38;5;34m640,000\u001b[0m │ input_layer[\u001b[38;5;34m0\u001b[0m][\u001b[38;5;34m0\u001b[0m]          │\n",
       "├───────────────────────────────┼───────────────────────────┼─────────────────┼────────────────────────────┤\n",
       "│ lstm (\u001b[38;5;33mLSTM\u001b[0m)                   │ (\u001b[38;5;45mNone\u001b[0m, \u001b[38;5;34m64\u001b[0m)                │          \u001b[38;5;34m49,408\u001b[0m │ embedding[\u001b[38;5;34m0\u001b[0m][\u001b[38;5;34m0\u001b[0m]            │\n",
       "├───────────────────────────────┼───────────────────────────┼─────────────────┼────────────────────────────┤\n",
       "│ dropout (\u001b[38;5;33mDropout\u001b[0m)             │ (\u001b[38;5;45mNone\u001b[0m, \u001b[38;5;34m64\u001b[0m)                │               \u001b[38;5;34m0\u001b[0m │ lstm[\u001b[38;5;34m0\u001b[0m][\u001b[38;5;34m0\u001b[0m]                 │\n",
       "├───────────────────────────────┼───────────────────────────┼─────────────────┼────────────────────────────┤\n",
       "│ emotion_output (\u001b[38;5;33mDense\u001b[0m)        │ (\u001b[38;5;45mNone\u001b[0m, \u001b[38;5;34m6\u001b[0m)                 │             \u001b[38;5;34m390\u001b[0m │ dropout[\u001b[38;5;34m0\u001b[0m][\u001b[38;5;34m0\u001b[0m]              │\n",
       "├───────────────────────────────┼───────────────────────────┼─────────────────┼────────────────────────────┤\n",
       "│ topic_output (\u001b[38;5;33mDense\u001b[0m)          │ (\u001b[38;5;45mNone\u001b[0m, \u001b[38;5;34m12\u001b[0m)                │             \u001b[38;5;34m780\u001b[0m │ dropout[\u001b[38;5;34m0\u001b[0m][\u001b[38;5;34m0\u001b[0m]              │\n",
       "└───────────────────────────────┴───────────────────────────┴─────────────────┴────────────────────────────┘\n"
      ]
     },
     "metadata": {},
     "output_type": "display_data"
    },
    {
     "data": {
      "text/html": [
       "<pre style=\"white-space:pre;overflow-x:auto;line-height:normal;font-family:Menlo,'DejaVu Sans Mono',consolas,'Courier New',monospace\"><span style=\"font-weight: bold\"> Total params: </span><span style=\"color: #00af00; text-decoration-color: #00af00\">690,578</span> (2.63 MB)\n",
       "</pre>\n"
      ],
      "text/plain": [
       "\u001b[1m Total params: \u001b[0m\u001b[38;5;34m690,578\u001b[0m (2.63 MB)\n"
      ]
     },
     "metadata": {},
     "output_type": "display_data"
    },
    {
     "data": {
      "text/html": [
       "<pre style=\"white-space:pre;overflow-x:auto;line-height:normal;font-family:Menlo,'DejaVu Sans Mono',consolas,'Courier New',monospace\"><span style=\"font-weight: bold\"> Trainable params: </span><span style=\"color: #00af00; text-decoration-color: #00af00\">690,578</span> (2.63 MB)\n",
       "</pre>\n"
      ],
      "text/plain": [
       "\u001b[1m Trainable params: \u001b[0m\u001b[38;5;34m690,578\u001b[0m (2.63 MB)\n"
      ]
     },
     "metadata": {},
     "output_type": "display_data"
    },
    {
     "data": {
      "text/html": [
       "<pre style=\"white-space:pre;overflow-x:auto;line-height:normal;font-family:Menlo,'DejaVu Sans Mono',consolas,'Courier New',monospace\"><span style=\"font-weight: bold\"> Non-trainable params: </span><span style=\"color: #00af00; text-decoration-color: #00af00\">0</span> (0.00 B)\n",
       "</pre>\n"
      ],
      "text/plain": [
       "\u001b[1m Non-trainable params: \u001b[0m\u001b[38;5;34m0\u001b[0m (0.00 B)\n"
      ]
     },
     "metadata": {},
     "output_type": "display_data"
    },
    {
     "name": "stdout",
     "output_type": "stream",
     "text": [
      "Epoch 1/10\n",
      "\u001b[1m576/576\u001b[0m \u001b[32m━━━━━━━━━━━━━━━━━━━━\u001b[0m\u001b[37m\u001b[0m \u001b[1m58s\u001b[0m 85ms/step - emotion_output_accuracy: 0.3840 - emotion_output_loss: 1.4723 - loss: 3.5186 - topic_output_accuracy: 0.2665 - topic_output_loss: 2.0463 - val_emotion_output_accuracy: 0.5721 - val_emotion_output_loss: 1.0808 - val_loss: 2.5872 - val_topic_output_accuracy: 0.4963 - val_topic_output_loss: 1.5062\n",
      "Epoch 2/10\n",
      "\u001b[1m576/576\u001b[0m \u001b[32m━━━━━━━━━━━━━━━━━━━━\u001b[0m\u001b[37m\u001b[0m \u001b[1m42s\u001b[0m 73ms/step - emotion_output_accuracy: 0.5957 - emotion_output_loss: 1.0393 - loss: 2.4428 - topic_output_accuracy: 0.5444 - topic_output_loss: 1.4035 - val_emotion_output_accuracy: 0.5892 - val_emotion_output_loss: 1.0187 - val_loss: 2.3537 - val_topic_output_accuracy: 0.5657 - val_topic_output_loss: 1.3346\n",
      "Epoch 3/10\n",
      "\u001b[1m576/576\u001b[0m \u001b[32m━━━━━━━━━━━━━━━━━━━━\u001b[0m\u001b[37m\u001b[0m \u001b[1m43s\u001b[0m 74ms/step - emotion_output_accuracy: 0.6712 - emotion_output_loss: 0.8675 - loss: 2.0017 - topic_output_accuracy: 0.6387 - topic_output_loss: 1.1342 - val_emotion_output_accuracy: 0.5926 - val_emotion_output_loss: 1.0400 - val_loss: 2.3466 - val_topic_output_accuracy: 0.5721 - val_topic_output_loss: 1.3062\n",
      "Epoch 4/10\n",
      "\u001b[1m576/576\u001b[0m \u001b[32m━━━━━━━━━━━━━━━━━━━━\u001b[0m\u001b[37m\u001b[0m \u001b[1m48s\u001b[0m 84ms/step - emotion_output_accuracy: 0.7028 - emotion_output_loss: 0.7868 - loss: 1.7738 - topic_output_accuracy: 0.6865 - topic_output_loss: 0.9870 - val_emotion_output_accuracy: 0.5882 - val_emotion_output_loss: 1.0471 - val_loss: 2.3614 - val_topic_output_accuracy: 0.5779 - val_topic_output_loss: 1.3139\n",
      "Epoch 5/10\n",
      "\u001b[1m576/576\u001b[0m \u001b[32m━━━━━━━━━━━━━━━━━━━━\u001b[0m\u001b[37m\u001b[0m \u001b[1m50s\u001b[0m 86ms/step - emotion_output_accuracy: 0.7258 - emotion_output_loss: 0.7216 - loss: 1.6144 - topic_output_accuracy: 0.7184 - topic_output_loss: 0.8928 - val_emotion_output_accuracy: 0.5916 - val_emotion_output_loss: 1.0911 - val_loss: 2.4586 - val_topic_output_accuracy: 0.5691 - val_topic_output_loss: 1.3671\n",
      "Epoch 6/10\n",
      "\u001b[1m576/576\u001b[0m \u001b[32m━━━━━━━━━━━━━━━━━━━━\u001b[0m\u001b[37m\u001b[0m \u001b[1m44s\u001b[0m 77ms/step - emotion_output_accuracy: 0.7454 - emotion_output_loss: 0.6723 - loss: 1.4725 - topic_output_accuracy: 0.7454 - topic_output_loss: 0.8002 - val_emotion_output_accuracy: 0.5774 - val_emotion_output_loss: 1.1335 - val_loss: 2.5481 - val_topic_output_accuracy: 0.5721 - val_topic_output_loss: 1.4142\n",
      "Epoch 7/10\n",
      "\u001b[1m576/576\u001b[0m \u001b[32m━━━━━━━━━━━━━━━━━━━━\u001b[0m\u001b[37m\u001b[0m \u001b[1m41s\u001b[0m 71ms/step - emotion_output_accuracy: 0.7619 - emotion_output_loss: 0.6379 - loss: 1.3720 - topic_output_accuracy: 0.7715 - topic_output_loss: 0.7341 - val_emotion_output_accuracy: 0.5657 - val_emotion_output_loss: 1.2023 - val_loss: 2.6622 - val_topic_output_accuracy: 0.5608 - val_topic_output_loss: 1.4595\n",
      "Epoch 8/10\n",
      "\u001b[1m576/576\u001b[0m \u001b[32m━━━━━━━━━━━━━━━━━━━━\u001b[0m\u001b[37m\u001b[0m \u001b[1m42s\u001b[0m 72ms/step - emotion_output_accuracy: 0.7748 - emotion_output_loss: 0.6009 - loss: 1.3175 - topic_output_accuracy: 0.7707 - topic_output_loss: 0.7165 - val_emotion_output_accuracy: 0.5735 - val_emotion_output_loss: 1.2593 - val_loss: 2.8228 - val_topic_output_accuracy: 0.5667 - val_topic_output_loss: 1.5629\n",
      "Epoch 9/10\n",
      "\u001b[1m576/576\u001b[0m \u001b[32m━━━━━━━━━━━━━━━━━━━━\u001b[0m\u001b[37m\u001b[0m \u001b[1m41s\u001b[0m 72ms/step - emotion_output_accuracy: 0.7833 - emotion_output_loss: 0.5691 - loss: 1.2169 - topic_output_accuracy: 0.7954 - topic_output_loss: 0.6478 - val_emotion_output_accuracy: 0.5760 - val_emotion_output_loss: 1.2940 - val_loss: 2.9091 - val_topic_output_accuracy: 0.5574 - val_topic_output_loss: 1.6146\n",
      "Epoch 10/10\n",
      "\u001b[1m576/576\u001b[0m \u001b[32m━━━━━━━━━━━━━━━━━━━━\u001b[0m\u001b[37m\u001b[0m \u001b[1m41s\u001b[0m 70ms/step - emotion_output_accuracy: 0.7954 - emotion_output_loss: 0.5368 - loss: 1.1408 - topic_output_accuracy: 0.8055 - topic_output_loss: 0.6039 - val_emotion_output_accuracy: 0.5638 - val_emotion_output_loss: 1.3591 - val_loss: 3.0019 - val_topic_output_accuracy: 0.5618 - val_topic_output_loss: 1.6423\n",
      "\u001b[1m71/71\u001b[0m \u001b[32m━━━━━━━━━━━━━━━━━━━━\u001b[0m\u001b[37m\u001b[0m \u001b[1m2s\u001b[0m 27ms/step - emotion_output_accuracy: 0.4349 - emotion_output_loss: 2.0556 - loss: 3.8926 - topic_output_accuracy: 0.5100 - topic_output_loss: 1.8370\n",
      "Test Emotion Accuracy: 0.4758\n",
      "Test Topic Accuracy: 0.5255\n",
      "\u001b[1m71/71\u001b[0m \u001b[32m━━━━━━━━━━━━━━━━━━━━\u001b[0m\u001b[37m\u001b[0m \u001b[1m2s\u001b[0m 26ms/step\n",
      "\u001b[1m71/71\u001b[0m \u001b[32m━━━━━━━━━━━━━━━━━━━━\u001b[0m\u001b[37m\u001b[0m \u001b[1m2s\u001b[0m 27ms/step\n",
      "Emotion Classification Report on Test Data:\n",
      "              precision    recall  f1-score   support\n",
      "\n",
      "       Anger       0.43      0.42      0.43       472\n",
      "        Fear       0.00      0.00      0.00        51\n",
      "         Joy       0.51      0.58      0.54       774\n",
      "        Love       0.43      0.39      0.41       388\n",
      "     Sadness       0.55      0.55      0.55       470\n",
      "    Surprise       0.19      0.19      0.19       117\n",
      "\n",
      "    accuracy                           0.48      2272\n",
      "   macro avg       0.35      0.36      0.35      2272\n",
      "weighted avg       0.46      0.48      0.47      2272\n",
      "\n",
      "Topic Classification Report on Test Data:\n",
      "               precision    recall  f1-score   support\n",
      "\n",
      "     Business       0.39      0.34      0.36        74\n",
      "    Education       0.43      0.40      0.42       255\n",
      "Entertainment       0.54      0.53      0.54       281\n",
      "      Fashion       0.00      0.00      0.00         8\n",
      "         Food       0.57      0.41      0.48        68\n",
      "         Game       0.38      0.10      0.16        29\n",
      "       Health       0.00      0.00      0.00         5\n",
      "        Music       0.59      0.58      0.59       254\n",
      "     Personal       0.54      0.65      0.59       572\n",
      "     Politics       0.56      0.54      0.55       394\n",
      "       Sports       0.48      0.48      0.48       294\n",
      "       Travel       0.44      0.37      0.40        38\n",
      "\n",
      "     accuracy                           0.53      2272\n",
      "    macro avg       0.41      0.37      0.38      2272\n",
      " weighted avg       0.52      0.53      0.52      2272\n",
      "\n"
     ]
    },
    {
     "name": "stderr",
     "output_type": "stream",
     "text": [
      "E:\\python\\lib\\site-packages\\sklearn\\metrics\\_classification.py:1318: UndefinedMetricWarning: Precision and F-score are ill-defined and being set to 0.0 in labels with no predicted samples. Use `zero_division` parameter to control this behavior.\n",
      "  _warn_prf(average, modifier, msg_start, len(result))\n",
      "E:\\python\\lib\\site-packages\\sklearn\\metrics\\_classification.py:1318: UndefinedMetricWarning: Precision and F-score are ill-defined and being set to 0.0 in labels with no predicted samples. Use `zero_division` parameter to control this behavior.\n",
      "  _warn_prf(average, modifier, msg_start, len(result))\n",
      "E:\\python\\lib\\site-packages\\sklearn\\metrics\\_classification.py:1318: UndefinedMetricWarning: Precision and F-score are ill-defined and being set to 0.0 in labels with no predicted samples. Use `zero_division` parameter to control this behavior.\n",
      "  _warn_prf(average, modifier, msg_start, len(result))\n"
     ]
    }
   ],
   "source": [
    "# LSTM Model for Emotion and Topic Classification\n",
    "import pandas as pd\n",
    "import numpy as np\n",
    "from sklearn.preprocessing import LabelEncoder\n",
    "from sklearn.metrics import classification_report\n",
    "from tensorflow.keras.models import Model\n",
    "from tensorflow.keras.layers import Input, Embedding, LSTM, Dense, Dropout\n",
    "from tensorflow.keras.preprocessing.text import Tokenizer\n",
    "from tensorflow.keras.preprocessing.sequence import pad_sequences\n",
    "from tensorflow.keras.utils import to_categorical\n",
    "\n",
    "# Load the dataset\n",
    "data_path = 'F:\\\\Masters\\\\Thesis\\\\BanglaEmotion\\\\Train.csv'  # Update with your path\n",
    "val_data_path = 'F:\\\\Masters\\\\Thesis\\\\BanglaEmotion\\\\Val.csv'  # Validation data path\n",
    "test_data_path = 'F:\\\\Masters\\\\Thesis\\\\BanglaEmotion\\\\Test.csv'  # Test data path\n",
    "\n",
    "# Load all datasets\n",
    "df = pd.read_csv(data_path)\n",
    "df_val = pd.read_csv(val_data_path)\n",
    "df_test = pd.read_csv(test_data_path)\n",
    "\n",
    "# Combine emotion columns into labels for training, validation, and test data\n",
    "emotion_columns = ['Love', 'Joy', 'Surprise', 'Anger', 'Sadness', 'Fear']\n",
    "df['Emotion_Label'] = df[emotion_columns].idxmax(axis=1)\n",
    "df_val['Emotion_Label'] = df_val[emotion_columns].idxmax(axis=1)\n",
    "df_test['Emotion_Label'] = df_test[emotion_columns].idxmax(axis=1)\n",
    "\n",
    "# Encode labels for emotion and topic\n",
    "emotion_label_encoder = LabelEncoder()\n",
    "df['Emotion_Label'] = emotion_label_encoder.fit_transform(df['Emotion_Label'])\n",
    "df_val['Emotion_Label'] = emotion_label_encoder.transform(df_val['Emotion_Label'])\n",
    "df_test['Emotion_Label'] = emotion_label_encoder.transform(df_test['Emotion_Label'])\n",
    "\n",
    "topic_label_encoder = LabelEncoder()\n",
    "df['Topic'] = topic_label_encoder.fit_transform(df['Topic'])\n",
    "df_val['Topic'] = topic_label_encoder.transform(df_val['Topic'])\n",
    "df_test['Topic'] = topic_label_encoder.transform(df_test['Topic'])\n",
    "\n",
    "# Tokenization and Padding for Text Data\n",
    "max_words = 5000  # Maximum number of words to consider\n",
    "max_len = 100  # Maximum sequence length\n",
    "tokenizer = Tokenizer(num_words=max_words)\n",
    "tokenizer.fit_on_texts(df['Data'])\n",
    "\n",
    "X_train = pad_sequences(tokenizer.texts_to_sequences(df['Data']), maxlen=max_len)\n",
    "X_val = pad_sequences(tokenizer.texts_to_sequences(df_val['Data']), maxlen=max_len)\n",
    "X_test = pad_sequences(tokenizer.texts_to_sequences(df_test['Data']), maxlen=max_len)\n",
    "\n",
    "# Convert labels to categorical\n",
    "y_train_emotion = to_categorical(df['Emotion_Label'])\n",
    "y_val_emotion = to_categorical(df_val['Emotion_Label'])\n",
    "y_test_emotion = to_categorical(df_test['Emotion_Label'])\n",
    "\n",
    "y_train_topic = to_categorical(df['Topic'])\n",
    "y_val_topic = to_categorical(df_val['Topic'])\n",
    "y_test_topic = to_categorical(df_test['Topic'])\n",
    "\n",
    "# LSTM Model\n",
    "embedding_dim = 128\n",
    "lstm_units = 64\n",
    "\n",
    "# Input Layer\n",
    "input_layer = Input(shape=(max_len,))\n",
    "\n",
    "# Embedding Layer\n",
    "embedding_layer = Embedding(input_dim=max_words, output_dim=embedding_dim, input_length=max_len)(input_layer)\n",
    "\n",
    "# LSTM Layer\n",
    "lstm_layer = LSTM(lstm_units, return_sequences=False)(embedding_layer)\n",
    "dropout_layer = Dropout(0.5)(lstm_layer)\n",
    "\n",
    "# Dense layers for separate outputs\n",
    "emotion_output = Dense(y_train_emotion.shape[1], activation='softmax', name='emotion_output')(dropout_layer)\n",
    "topic_output = Dense(y_train_topic.shape[1], activation='softmax', name='topic_output')(dropout_layer)\n",
    "\n",
    "# Model\n",
    "model = Model(inputs=input_layer, outputs=[emotion_output, topic_output])\n",
    "model.compile(\n",
    "    optimizer='adam',\n",
    "    loss={'emotion_output': 'categorical_crossentropy', 'topic_output': 'categorical_crossentropy'},\n",
    "    metrics={'emotion_output': 'accuracy', 'topic_output': 'accuracy'}\n",
    ")\n",
    "\n",
    "# Model Summary\n",
    "model.summary()\n",
    "\n",
    "# Training the Model\n",
    "history = model.fit(\n",
    "    X_train, \n",
    "    {'emotion_output': y_train_emotion, 'topic_output': y_train_topic},\n",
    "    validation_data=(X_val, {'emotion_output': y_val_emotion, 'topic_output': y_val_topic}),\n",
    "    epochs=10,\n",
    "    batch_size=32\n",
    ")\n",
    "\n",
    "# Evaluate on Test Data\n",
    "test_loss, test_emotion_loss, test_topic_loss, test_emotion_acc, test_topic_acc = model.evaluate(\n",
    "    X_test, \n",
    "    {'emotion_output': y_test_emotion, 'topic_output': y_test_topic}\n",
    ")\n",
    "\n",
    "print(f\"Test Emotion Accuracy: {test_emotion_acc:.4f}\")\n",
    "print(f\"Test Topic Accuracy: {test_topic_acc:.4f}\")\n",
    "\n",
    "# Predictions\n",
    "emotion_pred = np.argmax(model.predict(X_test)[0], axis=1)\n",
    "topic_pred = np.argmax(model.predict(X_test)[1], axis=1)\n",
    "\n",
    "# Classification Reports\n",
    "print(\"Emotion Classification Report on Test Data:\")\n",
    "print(classification_report(np.argmax(y_test_emotion, axis=1), emotion_pred, target_names=emotion_label_encoder.classes_))\n",
    "\n",
    "print(\"Topic Classification Report on Test Data:\")\n",
    "print(classification_report(np.argmax(y_test_topic, axis=1), topic_pred, target_names=topic_label_encoder.classes_))\n"
   ]
  },
  {
   "cell_type": "code",
   "execution_count": null,
   "id": "74ed3507",
   "metadata": {},
   "outputs": [],
   "source": []
  }
 ],
 "metadata": {
  "kernelspec": {
   "display_name": "Python 3 (ipykernel)",
   "language": "python",
   "name": "python3"
  },
  "language_info": {
   "codemirror_mode": {
    "name": "ipython",
    "version": 3
   },
   "file_extension": ".py",
   "mimetype": "text/x-python",
   "name": "python",
   "nbconvert_exporter": "python",
   "pygments_lexer": "ipython3",
   "version": "3.9.13"
  }
 },
 "nbformat": 4,
 "nbformat_minor": 5
}
