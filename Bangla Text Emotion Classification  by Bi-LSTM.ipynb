{
 "cells": [
  {
   "cell_type": "code",
   "execution_count": 6,
   "id": "f1357a58",
   "metadata": {},
   "outputs": [
    {
     "name": "stderr",
     "output_type": "stream",
     "text": [
      "E:\\python\\lib\\site-packages\\keras\\src\\layers\\core\\embedding.py:90: UserWarning: Argument `input_length` is deprecated. Just remove it.\n",
      "  warnings.warn(\n"
     ]
    },
    {
     "data": {
      "text/html": [
       "<pre style=\"white-space:pre;overflow-x:auto;line-height:normal;font-family:Menlo,'DejaVu Sans Mono',consolas,'Courier New',monospace\"><span style=\"font-weight: bold\">Model: \"functional_6\"</span>\n",
       "</pre>\n"
      ],
      "text/plain": [
       "\u001b[1mModel: \"functional_6\"\u001b[0m\n"
      ]
     },
     "metadata": {},
     "output_type": "display_data"
    },
    {
     "data": {
      "text/html": [
       "<pre style=\"white-space:pre;overflow-x:auto;line-height:normal;font-family:Menlo,'DejaVu Sans Mono',consolas,'Courier New',monospace\">┏━━━━━━━━━━━━━━━━━━━━━━━━━━━━━━━┳━━━━━━━━━━━━━━━━━━━━━━━━━━━┳━━━━━━━━━━━━━━━━━┳━━━━━━━━━━━━━━━━━━━━━━━━━━━━┓\n",
       "┃<span style=\"font-weight: bold\"> Layer (type)                  </span>┃<span style=\"font-weight: bold\"> Output Shape              </span>┃<span style=\"font-weight: bold\">         Param # </span>┃<span style=\"font-weight: bold\"> Connected to               </span>┃\n",
       "┡━━━━━━━━━━━━━━━━━━━━━━━━━━━━━━━╇━━━━━━━━━━━━━━━━━━━━━━━━━━━╇━━━━━━━━━━━━━━━━━╇━━━━━━━━━━━━━━━━━━━━━━━━━━━━┩\n",
       "│ input_layer_12 (<span style=\"color: #0087ff; text-decoration-color: #0087ff\">InputLayer</span>)   │ (<span style=\"color: #00d7ff; text-decoration-color: #00d7ff\">None</span>, <span style=\"color: #00af00; text-decoration-color: #00af00\">100</span>)               │               <span style=\"color: #00af00; text-decoration-color: #00af00\">0</span> │ -                          │\n",
       "├───────────────────────────────┼───────────────────────────┼─────────────────┼────────────────────────────┤\n",
       "│ embedding (<span style=\"color: #0087ff; text-decoration-color: #0087ff\">Embedding</span>)         │ (<span style=\"color: #00d7ff; text-decoration-color: #00d7ff\">None</span>, <span style=\"color: #00af00; text-decoration-color: #00af00\">100</span>, <span style=\"color: #00af00; text-decoration-color: #00af00\">128</span>)          │         <span style=\"color: #00af00; text-decoration-color: #00af00\">640,000</span> │ input_layer_12[<span style=\"color: #00af00; text-decoration-color: #00af00\">0</span>][<span style=\"color: #00af00; text-decoration-color: #00af00\">0</span>]       │\n",
       "├───────────────────────────────┼───────────────────────────┼─────────────────┼────────────────────────────┤\n",
       "│ bidirectional (<span style=\"color: #0087ff; text-decoration-color: #0087ff\">Bidirectional</span>) │ (<span style=\"color: #00d7ff; text-decoration-color: #00d7ff\">None</span>, <span style=\"color: #00af00; text-decoration-color: #00af00\">128</span>)               │          <span style=\"color: #00af00; text-decoration-color: #00af00\">98,816</span> │ embedding[<span style=\"color: #00af00; text-decoration-color: #00af00\">0</span>][<span style=\"color: #00af00; text-decoration-color: #00af00\">0</span>]            │\n",
       "├───────────────────────────────┼───────────────────────────┼─────────────────┼────────────────────────────┤\n",
       "│ dropout_4 (<span style=\"color: #0087ff; text-decoration-color: #0087ff\">Dropout</span>)           │ (<span style=\"color: #00d7ff; text-decoration-color: #00d7ff\">None</span>, <span style=\"color: #00af00; text-decoration-color: #00af00\">128</span>)               │               <span style=\"color: #00af00; text-decoration-color: #00af00\">0</span> │ bidirectional[<span style=\"color: #00af00; text-decoration-color: #00af00\">0</span>][<span style=\"color: #00af00; text-decoration-color: #00af00\">0</span>]        │\n",
       "├───────────────────────────────┼───────────────────────────┼─────────────────┼────────────────────────────┤\n",
       "│ emotion_output (<span style=\"color: #0087ff; text-decoration-color: #0087ff\">Dense</span>)        │ (<span style=\"color: #00d7ff; text-decoration-color: #00d7ff\">None</span>, <span style=\"color: #00af00; text-decoration-color: #00af00\">6</span>)                 │             <span style=\"color: #00af00; text-decoration-color: #00af00\">774</span> │ dropout_4[<span style=\"color: #00af00; text-decoration-color: #00af00\">0</span>][<span style=\"color: #00af00; text-decoration-color: #00af00\">0</span>]            │\n",
       "├───────────────────────────────┼───────────────────────────┼─────────────────┼────────────────────────────┤\n",
       "│ topic_output (<span style=\"color: #0087ff; text-decoration-color: #0087ff\">Dense</span>)          │ (<span style=\"color: #00d7ff; text-decoration-color: #00d7ff\">None</span>, <span style=\"color: #00af00; text-decoration-color: #00af00\">12</span>)                │           <span style=\"color: #00af00; text-decoration-color: #00af00\">1,548</span> │ dropout_4[<span style=\"color: #00af00; text-decoration-color: #00af00\">0</span>][<span style=\"color: #00af00; text-decoration-color: #00af00\">0</span>]            │\n",
       "└───────────────────────────────┴───────────────────────────┴─────────────────┴────────────────────────────┘\n",
       "</pre>\n"
      ],
      "text/plain": [
       "┏━━━━━━━━━━━━━━━━━━━━━━━━━━━━━━━┳━━━━━━━━━━━━━━━━━━━━━━━━━━━┳━━━━━━━━━━━━━━━━━┳━━━━━━━━━━━━━━━━━━━━━━━━━━━━┓\n",
       "┃\u001b[1m \u001b[0m\u001b[1mLayer (type)                 \u001b[0m\u001b[1m \u001b[0m┃\u001b[1m \u001b[0m\u001b[1mOutput Shape             \u001b[0m\u001b[1m \u001b[0m┃\u001b[1m \u001b[0m\u001b[1m        Param #\u001b[0m\u001b[1m \u001b[0m┃\u001b[1m \u001b[0m\u001b[1mConnected to              \u001b[0m\u001b[1m \u001b[0m┃\n",
       "┡━━━━━━━━━━━━━━━━━━━━━━━━━━━━━━━╇━━━━━━━━━━━━━━━━━━━━━━━━━━━╇━━━━━━━━━━━━━━━━━╇━━━━━━━━━━━━━━━━━━━━━━━━━━━━┩\n",
       "│ input_layer_12 (\u001b[38;5;33mInputLayer\u001b[0m)   │ (\u001b[38;5;45mNone\u001b[0m, \u001b[38;5;34m100\u001b[0m)               │               \u001b[38;5;34m0\u001b[0m │ -                          │\n",
       "├───────────────────────────────┼───────────────────────────┼─────────────────┼────────────────────────────┤\n",
       "│ embedding (\u001b[38;5;33mEmbedding\u001b[0m)         │ (\u001b[38;5;45mNone\u001b[0m, \u001b[38;5;34m100\u001b[0m, \u001b[38;5;34m128\u001b[0m)          │         \u001b[38;5;34m640,000\u001b[0m │ input_layer_12[\u001b[38;5;34m0\u001b[0m][\u001b[38;5;34m0\u001b[0m]       │\n",
       "├───────────────────────────────┼───────────────────────────┼─────────────────┼────────────────────────────┤\n",
       "│ bidirectional (\u001b[38;5;33mBidirectional\u001b[0m) │ (\u001b[38;5;45mNone\u001b[0m, \u001b[38;5;34m128\u001b[0m)               │          \u001b[38;5;34m98,816\u001b[0m │ embedding[\u001b[38;5;34m0\u001b[0m][\u001b[38;5;34m0\u001b[0m]            │\n",
       "├───────────────────────────────┼───────────────────────────┼─────────────────┼────────────────────────────┤\n",
       "│ dropout_4 (\u001b[38;5;33mDropout\u001b[0m)           │ (\u001b[38;5;45mNone\u001b[0m, \u001b[38;5;34m128\u001b[0m)               │               \u001b[38;5;34m0\u001b[0m │ bidirectional[\u001b[38;5;34m0\u001b[0m][\u001b[38;5;34m0\u001b[0m]        │\n",
       "├───────────────────────────────┼───────────────────────────┼─────────────────┼────────────────────────────┤\n",
       "│ emotion_output (\u001b[38;5;33mDense\u001b[0m)        │ (\u001b[38;5;45mNone\u001b[0m, \u001b[38;5;34m6\u001b[0m)                 │             \u001b[38;5;34m774\u001b[0m │ dropout_4[\u001b[38;5;34m0\u001b[0m][\u001b[38;5;34m0\u001b[0m]            │\n",
       "├───────────────────────────────┼───────────────────────────┼─────────────────┼────────────────────────────┤\n",
       "│ topic_output (\u001b[38;5;33mDense\u001b[0m)          │ (\u001b[38;5;45mNone\u001b[0m, \u001b[38;5;34m12\u001b[0m)                │           \u001b[38;5;34m1,548\u001b[0m │ dropout_4[\u001b[38;5;34m0\u001b[0m][\u001b[38;5;34m0\u001b[0m]            │\n",
       "└───────────────────────────────┴───────────────────────────┴─────────────────┴────────────────────────────┘\n"
      ]
     },
     "metadata": {},
     "output_type": "display_data"
    },
    {
     "data": {
      "text/html": [
       "<pre style=\"white-space:pre;overflow-x:auto;line-height:normal;font-family:Menlo,'DejaVu Sans Mono',consolas,'Courier New',monospace\"><span style=\"font-weight: bold\"> Total params: </span><span style=\"color: #00af00; text-decoration-color: #00af00\">741,138</span> (2.83 MB)\n",
       "</pre>\n"
      ],
      "text/plain": [
       "\u001b[1m Total params: \u001b[0m\u001b[38;5;34m741,138\u001b[0m (2.83 MB)\n"
      ]
     },
     "metadata": {},
     "output_type": "display_data"
    },
    {
     "data": {
      "text/html": [
       "<pre style=\"white-space:pre;overflow-x:auto;line-height:normal;font-family:Menlo,'DejaVu Sans Mono',consolas,'Courier New',monospace\"><span style=\"font-weight: bold\"> Trainable params: </span><span style=\"color: #00af00; text-decoration-color: #00af00\">741,138</span> (2.83 MB)\n",
       "</pre>\n"
      ],
      "text/plain": [
       "\u001b[1m Trainable params: \u001b[0m\u001b[38;5;34m741,138\u001b[0m (2.83 MB)\n"
      ]
     },
     "metadata": {},
     "output_type": "display_data"
    },
    {
     "data": {
      "text/html": [
       "<pre style=\"white-space:pre;overflow-x:auto;line-height:normal;font-family:Menlo,'DejaVu Sans Mono',consolas,'Courier New',monospace\"><span style=\"font-weight: bold\"> Non-trainable params: </span><span style=\"color: #00af00; text-decoration-color: #00af00\">0</span> (0.00 B)\n",
       "</pre>\n"
      ],
      "text/plain": [
       "\u001b[1m Non-trainable params: \u001b[0m\u001b[38;5;34m0\u001b[0m (0.00 B)\n"
      ]
     },
     "metadata": {},
     "output_type": "display_data"
    },
    {
     "name": "stdout",
     "output_type": "stream",
     "text": [
      "Epoch 1/10\n",
      "\u001b[1m576/576\u001b[0m \u001b[32m━━━━━━━━━━━━━━━━━━━━\u001b[0m\u001b[37m\u001b[0m \u001b[1m76s\u001b[0m 110ms/step - emotion_output_accuracy: 0.3929 - emotion_output_loss: 1.4275 - loss: 3.4449 - topic_output_accuracy: 0.2928 - topic_output_loss: 2.0175 - val_emotion_output_accuracy: 0.5515 - val_emotion_output_loss: 1.0904 - val_loss: 2.6182 - val_topic_output_accuracy: 0.4861 - val_topic_output_loss: 1.5275\n",
      "Epoch 2/10\n",
      "\u001b[1m576/576\u001b[0m \u001b[32m━━━━━━━━━━━━━━━━━━━━\u001b[0m\u001b[37m\u001b[0m \u001b[1m50s\u001b[0m 87ms/step - emotion_output_accuracy: 0.6055 - emotion_output_loss: 1.0156 - loss: 2.4460 - topic_output_accuracy: 0.5405 - topic_output_loss: 1.4304 - val_emotion_output_accuracy: 0.5950 - val_emotion_output_loss: 1.0216 - val_loss: 2.3742 - val_topic_output_accuracy: 0.5525 - val_topic_output_loss: 1.3523\n",
      "Epoch 3/10\n",
      "\u001b[1m576/576\u001b[0m \u001b[32m━━━━━━━━━━━━━━━━━━━━\u001b[0m\u001b[37m\u001b[0m \u001b[1m83s\u001b[0m 88ms/step - emotion_output_accuracy: 0.6713 - emotion_output_loss: 0.8772 - loss: 2.0114 - topic_output_accuracy: 0.6415 - topic_output_loss: 1.1342 - val_emotion_output_accuracy: 0.5965 - val_emotion_output_loss: 1.0213 - val_loss: 2.3286 - val_topic_output_accuracy: 0.5765 - val_topic_output_loss: 1.3068\n",
      "Epoch 4/10\n",
      "\u001b[1m576/576\u001b[0m \u001b[32m━━━━━━━━━━━━━━━━━━━━\u001b[0m\u001b[37m\u001b[0m \u001b[1m51s\u001b[0m 88ms/step - emotion_output_accuracy: 0.7080 - emotion_output_loss: 0.7814 - loss: 1.7676 - topic_output_accuracy: 0.6943 - topic_output_loss: 0.9862 - val_emotion_output_accuracy: 0.5828 - val_emotion_output_loss: 1.0558 - val_loss: 2.3794 - val_topic_output_accuracy: 0.5799 - val_topic_output_loss: 1.3232\n",
      "Epoch 5/10\n",
      "\u001b[1m576/576\u001b[0m \u001b[32m━━━━━━━━━━━━━━━━━━━━\u001b[0m\u001b[37m\u001b[0m \u001b[1m51s\u001b[0m 88ms/step - emotion_output_accuracy: 0.7281 - emotion_output_loss: 0.7231 - loss: 1.5875 - topic_output_accuracy: 0.7298 - topic_output_loss: 0.8644 - val_emotion_output_accuracy: 0.5931 - val_emotion_output_loss: 1.1206 - val_loss: 2.5056 - val_topic_output_accuracy: 0.5809 - val_topic_output_loss: 1.3844\n",
      "Epoch 6/10\n",
      "\u001b[1m576/576\u001b[0m \u001b[32m━━━━━━━━━━━━━━━━━━━━\u001b[0m\u001b[37m\u001b[0m \u001b[1m51s\u001b[0m 89ms/step - emotion_output_accuracy: 0.7392 - emotion_output_loss: 0.6898 - loss: 1.4708 - topic_output_accuracy: 0.7606 - topic_output_loss: 0.7810 - val_emotion_output_accuracy: 0.5725 - val_emotion_output_loss: 1.1595 - val_loss: 2.5634 - val_topic_output_accuracy: 0.5872 - val_topic_output_loss: 1.4034\n",
      "Epoch 7/10\n",
      "\u001b[1m576/576\u001b[0m \u001b[32m━━━━━━━━━━━━━━━━━━━━\u001b[0m\u001b[37m\u001b[0m \u001b[1m82s\u001b[0m 89ms/step - emotion_output_accuracy: 0.7556 - emotion_output_loss: 0.6455 - loss: 1.3847 - topic_output_accuracy: 0.7709 - topic_output_loss: 0.7391 - val_emotion_output_accuracy: 0.5740 - val_emotion_output_loss: 1.2237 - val_loss: 2.6975 - val_topic_output_accuracy: 0.5745 - val_topic_output_loss: 1.4734\n",
      "Epoch 8/10\n",
      "\u001b[1m576/576\u001b[0m \u001b[32m━━━━━━━━━━━━━━━━━━━━\u001b[0m\u001b[37m\u001b[0m \u001b[1m51s\u001b[0m 89ms/step - emotion_output_accuracy: 0.7669 - emotion_output_loss: 0.6122 - loss: 1.3031 - topic_output_accuracy: 0.7819 - topic_output_loss: 0.6909 - val_emotion_output_accuracy: 0.5672 - val_emotion_output_loss: 1.2567 - val_loss: 2.7816 - val_topic_output_accuracy: 0.5706 - val_topic_output_loss: 1.5245\n",
      "Epoch 9/10\n",
      "\u001b[1m576/576\u001b[0m \u001b[32m━━━━━━━━━━━━━━━━━━━━\u001b[0m\u001b[37m\u001b[0m \u001b[1m52s\u001b[0m 89ms/step - emotion_output_accuracy: 0.7873 - emotion_output_loss: 0.5750 - loss: 1.2239 - topic_output_accuracy: 0.7903 - topic_output_loss: 0.6489 - val_emotion_output_accuracy: 0.5711 - val_emotion_output_loss: 1.3253 - val_loss: 2.9725 - val_topic_output_accuracy: 0.5677 - val_topic_output_loss: 1.6466\n",
      "Epoch 10/10\n",
      "\u001b[1m576/576\u001b[0m \u001b[32m━━━━━━━━━━━━━━━━━━━━\u001b[0m\u001b[37m\u001b[0m \u001b[1m52s\u001b[0m 91ms/step - emotion_output_accuracy: 0.7999 - emotion_output_loss: 0.5451 - loss: 1.1625 - topic_output_accuracy: 0.8018 - topic_output_loss: 0.6174 - val_emotion_output_accuracy: 0.5589 - val_emotion_output_loss: 1.4160 - val_loss: 3.0904 - val_topic_output_accuracy: 0.5642 - val_topic_output_loss: 1.6739\n",
      "\u001b[1m71/71\u001b[0m \u001b[32m━━━━━━━━━━━━━━━━━━━━\u001b[0m\u001b[37m\u001b[0m \u001b[1m2s\u001b[0m 25ms/step - emotion_output_accuracy: 0.4261 - emotion_output_loss: 2.0655 - loss: 3.9821 - topic_output_accuracy: 0.4905 - topic_output_loss: 1.9166\n",
      "Test Emotion Accuracy: 0.4727\n",
      "Test Topic Accuracy: 0.5202\n",
      "WARNING:tensorflow:5 out of the last 6 calls to <function TensorFlowTrainer.make_predict_function.<locals>.one_step_on_data_distributed at 0x000001F5D5F2FB80> triggered tf.function retracing. Tracing is expensive and the excessive number of tracings could be due to (1) creating @tf.function repeatedly in a loop, (2) passing tensors with different shapes, (3) passing Python objects instead of tensors. For (1), please define your @tf.function outside of the loop. For (2), @tf.function has reduce_retracing=True option that can avoid unnecessary retracing. For (3), please refer to https://www.tensorflow.org/guide/function#controlling_retracing and https://www.tensorflow.org/api_docs/python/tf/function for  more details.\n",
      "\u001b[1m71/71\u001b[0m \u001b[32m━━━━━━━━━━━━━━━━━━━━\u001b[0m\u001b[37m\u001b[0m \u001b[1m3s\u001b[0m 25ms/step\n",
      "\u001b[1m71/71\u001b[0m \u001b[32m━━━━━━━━━━━━━━━━━━━━\u001b[0m\u001b[37m\u001b[0m \u001b[1m2s\u001b[0m 26ms/step\n",
      "Emotion Classification Report on Test Data:\n",
      "              precision    recall  f1-score   support\n",
      "\n",
      "       Anger       0.41      0.47      0.44       472\n",
      "        Fear       0.00      0.00      0.00        51\n",
      "         Joy       0.51      0.58      0.54       774\n",
      "        Love       0.42      0.38      0.40       388\n",
      "     Sadness       0.56      0.51      0.54       470\n",
      "    Surprise       0.19      0.12      0.15       117\n",
      "\n",
      "    accuracy                           0.47      2272\n",
      "   macro avg       0.35      0.34      0.34      2272\n",
      "weighted avg       0.46      0.47      0.46      2272\n",
      "\n",
      "Topic Classification Report on Test Data:\n",
      "               precision    recall  f1-score   support\n",
      "\n",
      "     Business       0.37      0.31      0.34        74\n",
      "    Education       0.45      0.38      0.41       255\n",
      "Entertainment       0.51      0.56      0.53       281\n",
      "      Fashion       0.00      0.00      0.00         8\n",
      "         Food       0.63      0.32      0.43        68\n",
      "         Game       0.11      0.03      0.05        29\n",
      "       Health       0.00      0.00      0.00         5\n",
      "        Music       0.55      0.58      0.57       254\n",
      "     Personal       0.55      0.65      0.60       572\n",
      "     Politics       0.55      0.51      0.53       394\n",
      "       Sports       0.48      0.50      0.49       294\n",
      "       Travel       0.44      0.37      0.40        38\n",
      "\n",
      "     accuracy                           0.52      2272\n",
      "    macro avg       0.39      0.35      0.36      2272\n",
      " weighted avg       0.51      0.52      0.51      2272\n",
      "\n"
     ]
    },
    {
     "name": "stderr",
     "output_type": "stream",
     "text": [
      "E:\\python\\lib\\site-packages\\sklearn\\metrics\\_classification.py:1318: UndefinedMetricWarning: Precision and F-score are ill-defined and being set to 0.0 in labels with no predicted samples. Use `zero_division` parameter to control this behavior.\n",
      "  _warn_prf(average, modifier, msg_start, len(result))\n",
      "E:\\python\\lib\\site-packages\\sklearn\\metrics\\_classification.py:1318: UndefinedMetricWarning: Precision and F-score are ill-defined and being set to 0.0 in labels with no predicted samples. Use `zero_division` parameter to control this behavior.\n",
      "  _warn_prf(average, modifier, msg_start, len(result))\n",
      "E:\\python\\lib\\site-packages\\sklearn\\metrics\\_classification.py:1318: UndefinedMetricWarning: Precision and F-score are ill-defined and being set to 0.0 in labels with no predicted samples. Use `zero_division` parameter to control this behavior.\n",
      "  _warn_prf(average, modifier, msg_start, len(result))\n"
     ]
    }
   ],
   "source": [
    "#Bi-LSTM Model\n",
    "import pandas as pd\n",
    "import numpy as np\n",
    "from sklearn.preprocessing import LabelEncoder\n",
    "from sklearn.metrics import classification_report, accuracy_score\n",
    "from tensorflow.keras.models import Model\n",
    "from tensorflow.keras.layers import Input, Embedding, Bidirectional, LSTM, Dense, Dropout, Flatten\n",
    "from tensorflow.keras.preprocessing.text import Tokenizer\n",
    "from tensorflow.keras.preprocessing.sequence import pad_sequences\n",
    "from tensorflow.keras.utils import to_categorical\n",
    "\n",
    "\n",
    "\n",
    "# Load the dataset\n",
    "data_path = 'F:\\\\Masters\\\\Thesis\\\\BanglaEmotion\\\\Train.csv'  # Update with your path\n",
    "val_data_path = 'F:\\\\Masters\\\\Thesis\\\\BanglaEmotion\\\\Val.csv'  # Validation data path\n",
    "test_data_path = 'F:\\\\Masters\\\\Thesis\\\\BanglaEmotion\\\\Test.csv'  # Test data path\n",
    "\n",
    "# Load all datasets\n",
    "df = pd.read_csv(data_path)\n",
    "df_val = pd.read_csv(val_data_path)\n",
    "df_test = pd.read_csv(test_data_path)\n",
    "\n",
    "# Combine emotion columns into labels for training, validation, and test data\n",
    "emotion_columns = ['Love', 'Joy', 'Surprise', 'Anger', 'Sadness', 'Fear']\n",
    "df['Emotion_Label'] = df[emotion_columns].idxmax(axis=1)  # Finds the emotion with the highest value\n",
    "df_val['Emotion_Label'] = df_val[emotion_columns].idxmax(axis=1)\n",
    "df_test['Emotion_Label'] = df_test[emotion_columns].idxmax(axis=1)\n",
    "\n",
    "# Encode labels for emotion and topic\n",
    "emotion_label_encoder = LabelEncoder()\n",
    "df['Emotion_Label'] = emotion_label_encoder.fit_transform(df['Emotion_Label'])\n",
    "df_val['Emotion_Label'] = emotion_label_encoder.transform(df_val['Emotion_Label'])\n",
    "df_test['Emotion_Label'] = emotion_label_encoder.transform(df_test['Emotion_Label'])\n",
    "\n",
    "topic_label_encoder = LabelEncoder()\n",
    "df['Topic'] = topic_label_encoder.fit_transform(df['Topic'])\n",
    "df_val['Topic'] = topic_label_encoder.transform(df_val['Topic'])\n",
    "df_test['Topic'] = topic_label_encoder.transform(df_test['Topic'])\n",
    "\n",
    "# Tokenization and Padding for Text Data\n",
    "max_words = 5000  # Maximum number of words to consider\n",
    "max_len = 100  # Maximum sequence length\n",
    "tokenizer = Tokenizer(num_words=max_words)\n",
    "tokenizer.fit_on_texts(df['Data'])\n",
    "\n",
    "X_train = pad_sequences(tokenizer.texts_to_sequences(df['Data']), maxlen=max_len)\n",
    "X_val = pad_sequences(tokenizer.texts_to_sequences(df_val['Data']), maxlen=max_len)\n",
    "X_test = pad_sequences(tokenizer.texts_to_sequences(df_test['Data']), maxlen=max_len)\n",
    "\n",
    "# Convert labels to categorical\n",
    "y_train_emotion = to_categorical(df['Emotion_Label'])\n",
    "y_val_emotion = to_categorical(df_val['Emotion_Label'])\n",
    "y_test_emotion = to_categorical(df_test['Emotion_Label'])\n",
    "\n",
    "y_train_topic = to_categorical(df['Topic'])\n",
    "y_val_topic = to_categorical(df_val['Topic'])\n",
    "y_test_topic = to_categorical(df_test['Topic'])\n",
    "\n",
    "# Bi-LSTM Model\n",
    "embedding_dim = 128\n",
    "lstm_units = 64\n",
    "\n",
    "# Input Layer\n",
    "input_layer = Input(shape=(max_len,))\n",
    "\n",
    "# Embedding Layer\n",
    "embedding_layer = Embedding(input_dim=max_words, output_dim=embedding_dim, input_length=max_len)(input_layer)\n",
    "\n",
    "# Bi-LSTM Layer\n",
    "lstm_layer = Bidirectional(LSTM(lstm_units, return_sequences=False))(embedding_layer)\n",
    "dropout_layer = Dropout(0.5)(lstm_layer)\n",
    "\n",
    "# Dense layers for separate outputs\n",
    "emotion_output = Dense(y_train_emotion.shape[1], activation='softmax', name='emotion_output')(dropout_layer)\n",
    "topic_output = Dense(y_train_topic.shape[1], activation='softmax', name='topic_output')(dropout_layer)\n",
    "\n",
    "# Model\n",
    "model = Model(inputs=input_layer, outputs=[emotion_output, topic_output])\n",
    "model.compile(\n",
    "    optimizer='adam',\n",
    "    loss={'emotion_output': 'categorical_crossentropy', 'topic_output': 'categorical_crossentropy'},\n",
    "    metrics={'emotion_output': 'accuracy', 'topic_output': 'accuracy'}\n",
    ")\n",
    "\n",
    "# Model Summary\n",
    "model.summary()\n",
    "\n",
    "# Training the Model\n",
    "history = model.fit(\n",
    "    X_train, \n",
    "    {'emotion_output': y_train_emotion, 'topic_output': y_train_topic},\n",
    "    validation_data=(X_val, {'emotion_output': y_val_emotion, 'topic_output': y_val_topic}),\n",
    "    epochs=10,\n",
    "    batch_size=32\n",
    ")\n",
    "\n",
    "# Evaluate on Test Data\n",
    "test_loss, test_emotion_loss, test_topic_loss, test_emotion_acc, test_topic_acc = model.evaluate(\n",
    "    X_test, \n",
    "    {'emotion_output': y_test_emotion, 'topic_output': y_test_topic}\n",
    ")\n",
    "\n",
    "print(f\"Test Emotion Accuracy: {test_emotion_acc:.4f}\")\n",
    "print(f\"Test Topic Accuracy: {test_topic_acc:.4f}\")\n",
    "\n",
    "# Predictions\n",
    "emotion_pred = np.argmax(model.predict(X_test)[0], axis=1)\n",
    "topic_pred = np.argmax(model.predict(X_test)[1], axis=1)\n",
    "\n",
    "# Classification Reports\n",
    "print(\"Emotion Classification Report on Test Data:\")\n",
    "print(classification_report(np.argmax(y_test_emotion, axis=1), emotion_pred, target_names=emotion_label_encoder.classes_))\n",
    "\n",
    "print(\"Topic Classification Report on Test Data:\")\n",
    "print(classification_report(np.argmax(y_test_topic, axis=1), topic_pred, target_names=topic_label_encoder.classes_))\n"
   ]
  },
  {
   "cell_type": "code",
   "execution_count": null,
   "id": "e0539c7f",
   "metadata": {},
   "outputs": [],
   "source": []
  },
  {
   "cell_type": "code",
   "execution_count": null,
   "id": "7af11562",
   "metadata": {},
   "outputs": [],
   "source": []
  }
 ],
 "metadata": {
  "kernelspec": {
   "display_name": "Python 3 (ipykernel)",
   "language": "python",
   "name": "python3"
  },
  "language_info": {
   "codemirror_mode": {
    "name": "ipython",
    "version": 3
   },
   "file_extension": ".py",
   "mimetype": "text/x-python",
   "name": "python",
   "nbconvert_exporter": "python",
   "pygments_lexer": "ipython3",
   "version": "3.9.13"
  }
 },
 "nbformat": 4,
 "nbformat_minor": 5
}
