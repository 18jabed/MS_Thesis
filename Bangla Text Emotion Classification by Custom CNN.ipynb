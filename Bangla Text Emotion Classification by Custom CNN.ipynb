{
 "cells": [
  {
   "cell_type": "code",
   "execution_count": 1,
   "id": "1fa275a2",
   "metadata": {},
   "outputs": [
    {
     "name": "stderr",
     "output_type": "stream",
     "text": [
      "E:\\python\\lib\\site-packages\\keras\\src\\layers\\core\\embedding.py:90: UserWarning: Argument `input_length` is deprecated. Just remove it.\n",
      "  warnings.warn(\n"
     ]
    },
    {
     "data": {
      "text/html": [
       "<pre style=\"white-space:pre;overflow-x:auto;line-height:normal;font-family:Menlo,'DejaVu Sans Mono',consolas,'Courier New',monospace\"><span style=\"font-weight: bold\">Model: \"functional\"</span>\n",
       "</pre>\n"
      ],
      "text/plain": [
       "\u001b[1mModel: \"functional\"\u001b[0m\n"
      ]
     },
     "metadata": {},
     "output_type": "display_data"
    },
    {
     "data": {
      "text/html": [
       "<pre style=\"white-space:pre;overflow-x:auto;line-height:normal;font-family:Menlo,'DejaVu Sans Mono',consolas,'Courier New',monospace\">┏━━━━━━━━━━━━━━━━━━━━━━━━━━━━━━━┳━━━━━━━━━━━━━━━━━━━━━━━━━━━┳━━━━━━━━━━━━━━━━━┳━━━━━━━━━━━━━━━━━━━━━━━━━━━━┓\n",
       "┃<span style=\"font-weight: bold\"> Layer (type)                  </span>┃<span style=\"font-weight: bold\"> Output Shape              </span>┃<span style=\"font-weight: bold\">         Param # </span>┃<span style=\"font-weight: bold\"> Connected to               </span>┃\n",
       "┡━━━━━━━━━━━━━━━━━━━━━━━━━━━━━━━╇━━━━━━━━━━━━━━━━━━━━━━━━━━━╇━━━━━━━━━━━━━━━━━╇━━━━━━━━━━━━━━━━━━━━━━━━━━━━┩\n",
       "│ input_layer (<span style=\"color: #0087ff; text-decoration-color: #0087ff\">InputLayer</span>)      │ (<span style=\"color: #00d7ff; text-decoration-color: #00d7ff\">None</span>, <span style=\"color: #00af00; text-decoration-color: #00af00\">100</span>)               │               <span style=\"color: #00af00; text-decoration-color: #00af00\">0</span> │ -                          │\n",
       "├───────────────────────────────┼───────────────────────────┼─────────────────┼────────────────────────────┤\n",
       "│ embedding (<span style=\"color: #0087ff; text-decoration-color: #0087ff\">Embedding</span>)         │ (<span style=\"color: #00d7ff; text-decoration-color: #00d7ff\">None</span>, <span style=\"color: #00af00; text-decoration-color: #00af00\">100</span>, <span style=\"color: #00af00; text-decoration-color: #00af00\">128</span>)          │         <span style=\"color: #00af00; text-decoration-color: #00af00\">640,000</span> │ input_layer[<span style=\"color: #00af00; text-decoration-color: #00af00\">0</span>][<span style=\"color: #00af00; text-decoration-color: #00af00\">0</span>]          │\n",
       "├───────────────────────────────┼───────────────────────────┼─────────────────┼────────────────────────────┤\n",
       "│ conv1d (<span style=\"color: #0087ff; text-decoration-color: #0087ff\">Conv1D</span>)               │ (<span style=\"color: #00d7ff; text-decoration-color: #00d7ff\">None</span>, <span style=\"color: #00af00; text-decoration-color: #00af00\">96</span>, <span style=\"color: #00af00; text-decoration-color: #00af00\">128</span>)           │          <span style=\"color: #00af00; text-decoration-color: #00af00\">82,048</span> │ embedding[<span style=\"color: #00af00; text-decoration-color: #00af00\">0</span>][<span style=\"color: #00af00; text-decoration-color: #00af00\">0</span>]            │\n",
       "├───────────────────────────────┼───────────────────────────┼─────────────────┼────────────────────────────┤\n",
       "│ global_max_pooling1d          │ (<span style=\"color: #00d7ff; text-decoration-color: #00d7ff\">None</span>, <span style=\"color: #00af00; text-decoration-color: #00af00\">128</span>)               │               <span style=\"color: #00af00; text-decoration-color: #00af00\">0</span> │ conv1d[<span style=\"color: #00af00; text-decoration-color: #00af00\">0</span>][<span style=\"color: #00af00; text-decoration-color: #00af00\">0</span>]               │\n",
       "│ (<span style=\"color: #0087ff; text-decoration-color: #0087ff\">GlobalMaxPooling1D</span>)          │                           │                 │                            │\n",
       "├───────────────────────────────┼───────────────────────────┼─────────────────┼────────────────────────────┤\n",
       "│ dropout (<span style=\"color: #0087ff; text-decoration-color: #0087ff\">Dropout</span>)             │ (<span style=\"color: #00d7ff; text-decoration-color: #00d7ff\">None</span>, <span style=\"color: #00af00; text-decoration-color: #00af00\">128</span>)               │               <span style=\"color: #00af00; text-decoration-color: #00af00\">0</span> │ global_max_pooling1d[<span style=\"color: #00af00; text-decoration-color: #00af00\">0</span>][<span style=\"color: #00af00; text-decoration-color: #00af00\">0</span>] │\n",
       "├───────────────────────────────┼───────────────────────────┼─────────────────┼────────────────────────────┤\n",
       "│ emotion_output (<span style=\"color: #0087ff; text-decoration-color: #0087ff\">Dense</span>)        │ (<span style=\"color: #00d7ff; text-decoration-color: #00d7ff\">None</span>, <span style=\"color: #00af00; text-decoration-color: #00af00\">6</span>)                 │             <span style=\"color: #00af00; text-decoration-color: #00af00\">774</span> │ dropout[<span style=\"color: #00af00; text-decoration-color: #00af00\">0</span>][<span style=\"color: #00af00; text-decoration-color: #00af00\">0</span>]              │\n",
       "├───────────────────────────────┼───────────────────────────┼─────────────────┼────────────────────────────┤\n",
       "│ topic_output (<span style=\"color: #0087ff; text-decoration-color: #0087ff\">Dense</span>)          │ (<span style=\"color: #00d7ff; text-decoration-color: #00d7ff\">None</span>, <span style=\"color: #00af00; text-decoration-color: #00af00\">12</span>)                │           <span style=\"color: #00af00; text-decoration-color: #00af00\">1,548</span> │ dropout[<span style=\"color: #00af00; text-decoration-color: #00af00\">0</span>][<span style=\"color: #00af00; text-decoration-color: #00af00\">0</span>]              │\n",
       "└───────────────────────────────┴───────────────────────────┴─────────────────┴────────────────────────────┘\n",
       "</pre>\n"
      ],
      "text/plain": [
       "┏━━━━━━━━━━━━━━━━━━━━━━━━━━━━━━━┳━━━━━━━━━━━━━━━━━━━━━━━━━━━┳━━━━━━━━━━━━━━━━━┳━━━━━━━━━━━━━━━━━━━━━━━━━━━━┓\n",
       "┃\u001b[1m \u001b[0m\u001b[1mLayer (type)                 \u001b[0m\u001b[1m \u001b[0m┃\u001b[1m \u001b[0m\u001b[1mOutput Shape             \u001b[0m\u001b[1m \u001b[0m┃\u001b[1m \u001b[0m\u001b[1m        Param #\u001b[0m\u001b[1m \u001b[0m┃\u001b[1m \u001b[0m\u001b[1mConnected to              \u001b[0m\u001b[1m \u001b[0m┃\n",
       "┡━━━━━━━━━━━━━━━━━━━━━━━━━━━━━━━╇━━━━━━━━━━━━━━━━━━━━━━━━━━━╇━━━━━━━━━━━━━━━━━╇━━━━━━━━━━━━━━━━━━━━━━━━━━━━┩\n",
       "│ input_layer (\u001b[38;5;33mInputLayer\u001b[0m)      │ (\u001b[38;5;45mNone\u001b[0m, \u001b[38;5;34m100\u001b[0m)               │               \u001b[38;5;34m0\u001b[0m │ -                          │\n",
       "├───────────────────────────────┼───────────────────────────┼─────────────────┼────────────────────────────┤\n",
       "│ embedding (\u001b[38;5;33mEmbedding\u001b[0m)         │ (\u001b[38;5;45mNone\u001b[0m, \u001b[38;5;34m100\u001b[0m, \u001b[38;5;34m128\u001b[0m)          │         \u001b[38;5;34m640,000\u001b[0m │ input_layer[\u001b[38;5;34m0\u001b[0m][\u001b[38;5;34m0\u001b[0m]          │\n",
       "├───────────────────────────────┼───────────────────────────┼─────────────────┼────────────────────────────┤\n",
       "│ conv1d (\u001b[38;5;33mConv1D\u001b[0m)               │ (\u001b[38;5;45mNone\u001b[0m, \u001b[38;5;34m96\u001b[0m, \u001b[38;5;34m128\u001b[0m)           │          \u001b[38;5;34m82,048\u001b[0m │ embedding[\u001b[38;5;34m0\u001b[0m][\u001b[38;5;34m0\u001b[0m]            │\n",
       "├───────────────────────────────┼───────────────────────────┼─────────────────┼────────────────────────────┤\n",
       "│ global_max_pooling1d          │ (\u001b[38;5;45mNone\u001b[0m, \u001b[38;5;34m128\u001b[0m)               │               \u001b[38;5;34m0\u001b[0m │ conv1d[\u001b[38;5;34m0\u001b[0m][\u001b[38;5;34m0\u001b[0m]               │\n",
       "│ (\u001b[38;5;33mGlobalMaxPooling1D\u001b[0m)          │                           │                 │                            │\n",
       "├───────────────────────────────┼───────────────────────────┼─────────────────┼────────────────────────────┤\n",
       "│ dropout (\u001b[38;5;33mDropout\u001b[0m)             │ (\u001b[38;5;45mNone\u001b[0m, \u001b[38;5;34m128\u001b[0m)               │               \u001b[38;5;34m0\u001b[0m │ global_max_pooling1d[\u001b[38;5;34m0\u001b[0m][\u001b[38;5;34m0\u001b[0m] │\n",
       "├───────────────────────────────┼───────────────────────────┼─────────────────┼────────────────────────────┤\n",
       "│ emotion_output (\u001b[38;5;33mDense\u001b[0m)        │ (\u001b[38;5;45mNone\u001b[0m, \u001b[38;5;34m6\u001b[0m)                 │             \u001b[38;5;34m774\u001b[0m │ dropout[\u001b[38;5;34m0\u001b[0m][\u001b[38;5;34m0\u001b[0m]              │\n",
       "├───────────────────────────────┼───────────────────────────┼─────────────────┼────────────────────────────┤\n",
       "│ topic_output (\u001b[38;5;33mDense\u001b[0m)          │ (\u001b[38;5;45mNone\u001b[0m, \u001b[38;5;34m12\u001b[0m)                │           \u001b[38;5;34m1,548\u001b[0m │ dropout[\u001b[38;5;34m0\u001b[0m][\u001b[38;5;34m0\u001b[0m]              │\n",
       "└───────────────────────────────┴───────────────────────────┴─────────────────┴────────────────────────────┘\n"
      ]
     },
     "metadata": {},
     "output_type": "display_data"
    },
    {
     "data": {
      "text/html": [
       "<pre style=\"white-space:pre;overflow-x:auto;line-height:normal;font-family:Menlo,'DejaVu Sans Mono',consolas,'Courier New',monospace\"><span style=\"font-weight: bold\"> Total params: </span><span style=\"color: #00af00; text-decoration-color: #00af00\">724,370</span> (2.76 MB)\n",
       "</pre>\n"
      ],
      "text/plain": [
       "\u001b[1m Total params: \u001b[0m\u001b[38;5;34m724,370\u001b[0m (2.76 MB)\n"
      ]
     },
     "metadata": {},
     "output_type": "display_data"
    },
    {
     "data": {
      "text/html": [
       "<pre style=\"white-space:pre;overflow-x:auto;line-height:normal;font-family:Menlo,'DejaVu Sans Mono',consolas,'Courier New',monospace\"><span style=\"font-weight: bold\"> Trainable params: </span><span style=\"color: #00af00; text-decoration-color: #00af00\">724,370</span> (2.76 MB)\n",
       "</pre>\n"
      ],
      "text/plain": [
       "\u001b[1m Trainable params: \u001b[0m\u001b[38;5;34m724,370\u001b[0m (2.76 MB)\n"
      ]
     },
     "metadata": {},
     "output_type": "display_data"
    },
    {
     "data": {
      "text/html": [
       "<pre style=\"white-space:pre;overflow-x:auto;line-height:normal;font-family:Menlo,'DejaVu Sans Mono',consolas,'Courier New',monospace\"><span style=\"font-weight: bold\"> Non-trainable params: </span><span style=\"color: #00af00; text-decoration-color: #00af00\">0</span> (0.00 B)\n",
       "</pre>\n"
      ],
      "text/plain": [
       "\u001b[1m Non-trainable params: \u001b[0m\u001b[38;5;34m0\u001b[0m (0.00 B)\n"
      ]
     },
     "metadata": {},
     "output_type": "display_data"
    },
    {
     "name": "stdout",
     "output_type": "stream",
     "text": [
      "Epoch 1/10\n",
      "\u001b[1m576/576\u001b[0m \u001b[32m━━━━━━━━━━━━━━━━━━━━\u001b[0m\u001b[37m\u001b[0m \u001b[1m40s\u001b[0m 46ms/step - emotion_output_accuracy: 0.3759 - emotion_output_loss: 1.4669 - loss: 3.4548 - topic_output_accuracy: 0.2894 - topic_output_loss: 1.9878 - val_emotion_output_accuracy: 0.5427 - val_emotion_output_loss: 1.1135 - val_loss: 2.5798 - val_topic_output_accuracy: 0.5305 - val_topic_output_loss: 1.4661\n",
      "Epoch 2/10\n",
      "\u001b[1m576/576\u001b[0m \u001b[32m━━━━━━━━━━━━━━━━━━━━\u001b[0m\u001b[37m\u001b[0m \u001b[1m25s\u001b[0m 43ms/step - emotion_output_accuracy: 0.5955 - emotion_output_loss: 1.0474 - loss: 2.4175 - topic_output_accuracy: 0.5701 - topic_output_loss: 1.3701 - val_emotion_output_accuracy: 0.5892 - val_emotion_output_loss: 1.0291 - val_loss: 2.3226 - val_topic_output_accuracy: 0.5804 - val_topic_output_loss: 1.2932\n",
      "Epoch 3/10\n",
      "\u001b[1m576/576\u001b[0m \u001b[32m━━━━━━━━━━━━━━━━━━━━\u001b[0m\u001b[37m\u001b[0m \u001b[1m24s\u001b[0m 42ms/step - emotion_output_accuracy: 0.6632 - emotion_output_loss: 0.8899 - loss: 2.0004 - topic_output_accuracy: 0.6476 - topic_output_loss: 1.1106 - val_emotion_output_accuracy: 0.5794 - val_emotion_output_loss: 1.0444 - val_loss: 2.3373 - val_topic_output_accuracy: 0.5857 - val_topic_output_loss: 1.2927\n",
      "Epoch 4/10\n",
      "\u001b[1m576/576\u001b[0m \u001b[32m━━━━━━━━━━━━━━━━━━━━\u001b[0m\u001b[37m\u001b[0m \u001b[1m24s\u001b[0m 42ms/step - emotion_output_accuracy: 0.7016 - emotion_output_loss: 0.7987 - loss: 1.7442 - topic_output_accuracy: 0.7023 - topic_output_loss: 0.9455 - val_emotion_output_accuracy: 0.5843 - val_emotion_output_loss: 1.0751 - val_loss: 2.3715 - val_topic_output_accuracy: 0.5887 - val_topic_output_loss: 1.2961\n",
      "Epoch 5/10\n",
      "\u001b[1m576/576\u001b[0m \u001b[32m━━━━━━━━━━━━━━━━━━━━\u001b[0m\u001b[37m\u001b[0m \u001b[1m24s\u001b[0m 42ms/step - emotion_output_accuracy: 0.7335 - emotion_output_loss: 0.7050 - loss: 1.5283 - topic_output_accuracy: 0.7395 - topic_output_loss: 0.8233 - val_emotion_output_accuracy: 0.5750 - val_emotion_output_loss: 1.1058 - val_loss: 2.4489 - val_topic_output_accuracy: 0.5843 - val_topic_output_loss: 1.3427\n",
      "Epoch 6/10\n",
      "\u001b[1m576/576\u001b[0m \u001b[32m━━━━━━━━━━━━━━━━━━━━\u001b[0m\u001b[37m\u001b[0m \u001b[1m24s\u001b[0m 42ms/step - emotion_output_accuracy: 0.7642 - emotion_output_loss: 0.6410 - loss: 1.3647 - topic_output_accuracy: 0.7707 - topic_output_loss: 0.7238 - val_emotion_output_accuracy: 0.5721 - val_emotion_output_loss: 1.1665 - val_loss: 2.5545 - val_topic_output_accuracy: 0.5887 - val_topic_output_loss: 1.3877\n",
      "Epoch 7/10\n",
      "\u001b[1m576/576\u001b[0m \u001b[32m━━━━━━━━━━━━━━━━━━━━\u001b[0m\u001b[37m\u001b[0m \u001b[1m25s\u001b[0m 43ms/step - emotion_output_accuracy: 0.7854 - emotion_output_loss: 0.5753 - loss: 1.2396 - topic_output_accuracy: 0.7860 - topic_output_loss: 0.6643 - val_emotion_output_accuracy: 0.5799 - val_emotion_output_loss: 1.2225 - val_loss: 2.6604 - val_topic_output_accuracy: 0.5975 - val_topic_output_loss: 1.4375\n",
      "Epoch 8/10\n",
      "\u001b[1m576/576\u001b[0m \u001b[32m━━━━━━━━━━━━━━━━━━━━\u001b[0m\u001b[37m\u001b[0m \u001b[1m25s\u001b[0m 43ms/step - emotion_output_accuracy: 0.8139 - emotion_output_loss: 0.5109 - loss: 1.1155 - topic_output_accuracy: 0.8059 - topic_output_loss: 0.6046 - val_emotion_output_accuracy: 0.5711 - val_emotion_output_loss: 1.2998 - val_loss: 2.8196 - val_topic_output_accuracy: 0.5877 - val_topic_output_loss: 1.5194\n",
      "Epoch 9/10\n",
      "\u001b[1m576/576\u001b[0m \u001b[32m━━━━━━━━━━━━━━━━━━━━\u001b[0m\u001b[37m\u001b[0m \u001b[1m25s\u001b[0m 43ms/step - emotion_output_accuracy: 0.8241 - emotion_output_loss: 0.4711 - loss: 1.0159 - topic_output_accuracy: 0.8216 - topic_output_loss: 0.5448 - val_emotion_output_accuracy: 0.5745 - val_emotion_output_loss: 1.3840 - val_loss: 2.9938 - val_topic_output_accuracy: 0.5784 - val_topic_output_loss: 1.6093\n",
      "Epoch 10/10\n",
      "\u001b[1m576/576\u001b[0m \u001b[32m━━━━━━━━━━━━━━━━━━━━\u001b[0m\u001b[37m\u001b[0m \u001b[1m25s\u001b[0m 43ms/step - emotion_output_accuracy: 0.8358 - emotion_output_loss: 0.4337 - loss: 0.9449 - topic_output_accuracy: 0.8314 - topic_output_loss: 0.5112 - val_emotion_output_accuracy: 0.5794 - val_emotion_output_loss: 1.4433 - val_loss: 3.0763 - val_topic_output_accuracy: 0.5794 - val_topic_output_loss: 1.6324\n",
      "\u001b[1m71/71\u001b[0m \u001b[32m━━━━━━━━━━━━━━━━━━━━\u001b[0m\u001b[37m\u001b[0m \u001b[1m1s\u001b[0m 12ms/step - emotion_output_accuracy: 0.4357 - emotion_output_loss: 2.1220 - loss: 3.9995 - topic_output_accuracy: 0.5345 - topic_output_loss: 1.8775\n",
      "Test Emotion Accuracy: 0.4771\n",
      "Test Topic Accuracy: 0.5467\n",
      "\u001b[1m71/71\u001b[0m \u001b[32m━━━━━━━━━━━━━━━━━━━━\u001b[0m\u001b[37m\u001b[0m \u001b[1m1s\u001b[0m 12ms/step\n",
      "\u001b[1m71/71\u001b[0m \u001b[32m━━━━━━━━━━━━━━━━━━━━\u001b[0m\u001b[37m\u001b[0m \u001b[1m1s\u001b[0m 12ms/step\n",
      "Emotion Classification Report on Test Data:\n",
      "              precision    recall  f1-score   support\n",
      "\n",
      "       Anger       0.43      0.39      0.41       472\n",
      "        Fear       1.00      0.02      0.04        51\n",
      "         Joy       0.49      0.65      0.56       774\n",
      "        Love       0.42      0.33      0.37       388\n",
      "     Sadness       0.56      0.55      0.56       470\n",
      "    Surprise       0.17      0.08      0.11       117\n",
      "\n",
      "    accuracy                           0.48      2272\n",
      "   macro avg       0.51      0.34      0.34      2272\n",
      "weighted avg       0.48      0.48      0.46      2272\n",
      "\n",
      "Topic Classification Report on Test Data:\n",
      "               precision    recall  f1-score   support\n",
      "\n",
      "     Business       0.42      0.43      0.42        74\n",
      "    Education       0.55      0.44      0.49       255\n",
      "Entertainment       0.56      0.57      0.57       281\n",
      "      Fashion       0.00      0.00      0.00         8\n",
      "         Food       0.78      0.31      0.44        68\n",
      "         Game       0.57      0.14      0.22        29\n",
      "       Health       0.00      0.00      0.00         5\n",
      "        Music       0.60      0.58      0.59       254\n",
      "     Personal       0.54      0.69      0.60       572\n",
      "     Politics       0.56      0.54      0.55       394\n",
      "       Sports       0.49      0.49      0.49       294\n",
      "       Travel       0.58      0.37      0.45        38\n",
      "\n",
      "     accuracy                           0.55      2272\n",
      "    macro avg       0.47      0.38      0.40      2272\n",
      " weighted avg       0.55      0.55      0.54      2272\n",
      "\n"
     ]
    },
    {
     "name": "stderr",
     "output_type": "stream",
     "text": [
      "E:\\python\\lib\\site-packages\\sklearn\\metrics\\_classification.py:1318: UndefinedMetricWarning: Precision and F-score are ill-defined and being set to 0.0 in labels with no predicted samples. Use `zero_division` parameter to control this behavior.\n",
      "  _warn_prf(average, modifier, msg_start, len(result))\n",
      "E:\\python\\lib\\site-packages\\sklearn\\metrics\\_classification.py:1318: UndefinedMetricWarning: Precision and F-score are ill-defined and being set to 0.0 in labels with no predicted samples. Use `zero_division` parameter to control this behavior.\n",
      "  _warn_prf(average, modifier, msg_start, len(result))\n",
      "E:\\python\\lib\\site-packages\\sklearn\\metrics\\_classification.py:1318: UndefinedMetricWarning: Precision and F-score are ill-defined and being set to 0.0 in labels with no predicted samples. Use `zero_division` parameter to control this behavior.\n",
      "  _warn_prf(average, modifier, msg_start, len(result))\n"
     ]
    }
   ],
   "source": [
    "# Import Libraries\n",
    "import pandas as pd\n",
    "import numpy as np\n",
    "from sklearn.preprocessing import LabelEncoder\n",
    "from sklearn.metrics import classification_report\n",
    "from tensorflow.keras.models import Model\n",
    "from tensorflow.keras.layers import Input, Embedding, Conv1D, GlobalMaxPooling1D, Dense, Dropout\n",
    "from tensorflow.keras.preprocessing.text import Tokenizer\n",
    "from tensorflow.keras.preprocessing.sequence import pad_sequences\n",
    "from tensorflow.keras.utils import to_categorical\n",
    "\n",
    "# Load the dataset\n",
    "data_path = 'F:\\\\Masters\\\\Thesis\\\\BanglaEmotion\\\\Train.csv'  # Update with your path\n",
    "val_data_path = 'F:\\\\Masters\\\\Thesis\\\\BanglaEmotion\\\\Val.csv'  # Validation data path\n",
    "test_data_path = 'F:\\\\Masters\\\\Thesis\\\\BanglaEmotion\\\\Test.csv'  # Test data path\n",
    "\n",
    "# Load all datasets\n",
    "df = pd.read_csv(data_path)\n",
    "df_val = pd.read_csv(val_data_path)\n",
    "df_test = pd.read_csv(test_data_path)\n",
    "\n",
    "# Combine emotion columns into labels for training, validation, and test data\n",
    "emotion_columns = ['Love', 'Joy', 'Surprise', 'Anger', 'Sadness', 'Fear']\n",
    "df['Emotion_Label'] = df[emotion_columns].idxmax(axis=1)  # Finds the emotion with the highest value\n",
    "df_val['Emotion_Label'] = df_val[emotion_columns].idxmax(axis=1)\n",
    "df_test['Emotion_Label'] = df_test[emotion_columns].idxmax(axis=1)\n",
    "\n",
    "# Encode labels for emotion and topic\n",
    "emotion_label_encoder = LabelEncoder()\n",
    "df['Emotion_Label'] = emotion_label_encoder.fit_transform(df['Emotion_Label'])\n",
    "df_val['Emotion_Label'] = emotion_label_encoder.transform(df_val['Emotion_Label'])\n",
    "df_test['Emotion_Label'] = emotion_label_encoder.transform(df_test['Emotion_Label'])\n",
    "\n",
    "topic_label_encoder = LabelEncoder()\n",
    "df['Topic'] = topic_label_encoder.fit_transform(df['Topic'])\n",
    "df_val['Topic'] = topic_label_encoder.transform(df_val['Topic'])\n",
    "df_test['Topic'] = topic_label_encoder.transform(df_test['Topic'])\n",
    "\n",
    "# Tokenization and Padding for Text Data\n",
    "max_words = 5000  # Maximum number of words to consider\n",
    "max_len = 100  # Maximum sequence length\n",
    "tokenizer = Tokenizer(num_words=max_words)\n",
    "tokenizer.fit_on_texts(df['Data'])\n",
    "\n",
    "X_train = pad_sequences(tokenizer.texts_to_sequences(df['Data']), maxlen=max_len)\n",
    "X_val = pad_sequences(tokenizer.texts_to_sequences(df_val['Data']), maxlen=max_len)\n",
    "X_test = pad_sequences(tokenizer.texts_to_sequences(df_test['Data']), maxlen=max_len)\n",
    "\n",
    "# Convert labels to categorical\n",
    "y_train_emotion = to_categorical(df['Emotion_Label'])\n",
    "y_val_emotion = to_categorical(df_val['Emotion_Label'])\n",
    "y_test_emotion = to_categorical(df_test['Emotion_Label'])\n",
    "\n",
    "y_train_topic = to_categorical(df['Topic'])\n",
    "y_val_topic = to_categorical(df_val['Topic'])\n",
    "y_test_topic = to_categorical(df_test['Topic'])\n",
    "\n",
    "# CNN Model\n",
    "embedding_dim = 128\n",
    "filters = 128\n",
    "kernel_size = 5\n",
    "dropout_rate = 0.5\n",
    "\n",
    "# Input Layer\n",
    "input_layer = Input(shape=(max_len,))\n",
    "\n",
    "# Embedding Layer\n",
    "embedding_layer = Embedding(input_dim=max_words, output_dim=embedding_dim, input_length=max_len)(input_layer)\n",
    "\n",
    "# CNN Layer\n",
    "conv_layer = Conv1D(filters=filters, kernel_size=kernel_size, activation='relu')(embedding_layer)\n",
    "pooling_layer = GlobalMaxPooling1D()(conv_layer)\n",
    "dropout_layer = Dropout(dropout_rate)(pooling_layer)\n",
    "\n",
    "# Dense layers for separate outputs\n",
    "emotion_output = Dense(y_train_emotion.shape[1], activation='softmax', name='emotion_output')(dropout_layer)\n",
    "topic_output = Dense(y_train_topic.shape[1], activation='softmax', name='topic_output')(dropout_layer)\n",
    "\n",
    "# Model\n",
    "model = Model(inputs=input_layer, outputs=[emotion_output, topic_output])\n",
    "model.compile(\n",
    "    optimizer='adam',\n",
    "    loss={'emotion_output': 'categorical_crossentropy', 'topic_output': 'categorical_crossentropy'},\n",
    "    metrics={'emotion_output': 'accuracy', 'topic_output': 'accuracy'}\n",
    ")\n",
    "\n",
    "# Model Summary\n",
    "model.summary()\n",
    "\n",
    "# Training the Model\n",
    "history = model.fit(\n",
    "    X_train,\n",
    "    {'emotion_output': y_train_emotion, 'topic_output': y_train_topic},\n",
    "    validation_data=(X_val, {'emotion_output': y_val_emotion, 'topic_output': y_val_topic}),\n",
    "    epochs=10,\n",
    "    batch_size=32\n",
    ")\n",
    "\n",
    "# Evaluate on Test Data\n",
    "test_loss, test_emotion_loss, test_topic_loss, test_emotion_acc, test_topic_acc = model.evaluate(\n",
    "    X_test,\n",
    "    {'emotion_output': y_test_emotion, 'topic_output': y_test_topic}\n",
    ")\n",
    "\n",
    "print(f\"Test Emotion Accuracy: {test_emotion_acc:.4f}\")\n",
    "print(f\"Test Topic Accuracy: {test_topic_acc:.4f}\")\n",
    "\n",
    "# Predictions\n",
    "emotion_pred = np.argmax(model.predict(X_test)[0], axis=1)\n",
    "topic_pred = np.argmax(model.predict(X_test)[1], axis=1)\n",
    "\n",
    "# Classification Reports\n",
    "print(\"Emotion Classification Report on Test Data:\")\n",
    "print(classification_report(np.argmax(y_test_emotion, axis=1), emotion_pred, target_names=emotion_label_encoder.classes_))\n",
    "\n",
    "print(\"Topic Classification Report on Test Data:\")\n",
    "print(classification_report(np.argmax(y_test_topic, axis=1), topic_pred, target_names=topic_label_encoder.classes_))\n"
   ]
  },
  {
   "cell_type": "code",
   "execution_count": null,
   "id": "261a89ae",
   "metadata": {},
   "outputs": [],
   "source": []
  }
 ],
 "metadata": {
  "kernelspec": {
   "display_name": "Python 3 (ipykernel)",
   "language": "python",
   "name": "python3"
  },
  "language_info": {
   "codemirror_mode": {
    "name": "ipython",
    "version": 3
   },
   "file_extension": ".py",
   "mimetype": "text/x-python",
   "name": "python",
   "nbconvert_exporter": "python",
   "pygments_lexer": "ipython3",
   "version": "3.9.13"
  }
 },
 "nbformat": 4,
 "nbformat_minor": 5
}
